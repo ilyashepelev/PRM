{
 "cells": [
  {
   "cell_type": "code",
   "execution_count": 8,
   "metadata": {},
   "outputs": [
    {
     "name": "stdout",
     "output_type": "stream",
     "text": [
      "Введите запрос и нажмите Enter: (например - SSR) \n",
      "SSR - Категории пассажиров/Перевозка инвалидных кресел \n",
      "IATA - Коды аэропортов мира ИАТА\n",
      "N - Выход\n",
      "wcbd\n",
      "Вы ввели некорректное значение.\n",
      "Повторите пожалуйста.\n",
      "Введите запрос и нажмите Enter: (например - SSR) \n",
      "SSR - Категории пассажиров/Перевозка инвалидных кресел \n",
      "IATA - Коды аэропортов мира ИАТА\n",
      "N - Выход\n",
      "ssr\n",
      "Введите запрос: (например - WCMP или WCLB)\n",
      "wcbd\n",
      "- (непротекающая батарея/ сухой электролит). Перевозится в багажном отсеке самолета. Разрешенная емкость батареи - без ограничений (Wheelchair(dry cell battery))\n"
     ]
    }
   ],
   "source": [
    "def prm_function():\n",
    "    \"\"\"Contains Reservation codes for walking disabilities.\n",
    "    Special Service Request (SSR) Codes\"\"\"\n",
    "    counterSsr = 0 # if you changed the values to 'inputssr.txt', please change the counterSsr\n",
    "    counterIata = 0 # if you changed the values to 'inputiata.txt', please change the counterIata\n",
    "    print('Введите запрос и нажмите Enter: (например - SSR) \\n'\n",
    "    'SSR - Категории пассажиров/Перевозка инвалидных кресел \\n'\n",
    "    'IATA - Коды аэропортов мира ИАТА\\n'\n",
    "    'N - Выход')\n",
    "    requestMenu = input().upper()\n",
    "    if requestMenu == 'SSR':\n",
    "        print('Введите запрос: (например - WCMP или WCLB)')\n",
    "        listSsr = open('inputssr.txt', 'r', encoding='utf-8')\n",
    "        requestSsr = input().upper()\n",
    "        for i in listSsr:\n",
    "            i = i.strip().split()\n",
    "            if requestSsr == i[0]:\n",
    "                print(*i[1:])\n",
    "                counterSsr = 0\n",
    "            elif counterSsr == 19:\n",
    "                print('Вы ввели некорректное значение.\\n'\n",
    "                      'Повторите пожалуйста.')\n",
    "                counterSsr = 0\n",
    "                prm_function()\n",
    "            counterSsr += 1\n",
    "    elif requestMenu == 'IATA':\n",
    "        print('Введите запрос: (например - LED)')\n",
    "        listIata = open('inputiata.txt', 'r', encoding='utf-8')\n",
    "        requestIata = input().upper()\n",
    "        for i in listIata:\n",
    "            i = i.strip().split()\n",
    "            if requestIata == i[0]:\n",
    "                print(*i[1:])\n",
    "                counterIata = 0\n",
    "            elif counterIata == 9374:\n",
    "                print('Вы ввели некорректное значение.\\n'\n",
    "                      'Повторите пожалуйста.')\n",
    "                counterIata = 0\n",
    "                prm_function()\n",
    "            counterIata += 1\n",
    "    elif requestMenu == 'N':\n",
    "        print('Выход.')\n",
    "    else:\n",
    "        print('Вы ввели некорректное значение.\\n'\n",
    "              'Повторите пожалуйста.')\n",
    "        prm_function()\n",
    "\n",
    "\n",
    "prm_function()"
   ]
  },
  {
   "cell_type": "code",
   "execution_count": null,
   "metadata": {},
   "outputs": [],
   "source": []
  },
  {
   "cell_type": "code",
   "execution_count": null,
   "metadata": {},
   "outputs": [],
   "source": []
  }
 ],
 "metadata": {
  "kernelspec": {
   "display_name": "Python 3",
   "language": "python",
   "name": "python3"
  },
  "language_info": {
   "codemirror_mode": {
    "name": "ipython",
    "version": 3
   },
   "file_extension": ".py",
   "mimetype": "text/x-python",
   "name": "python",
   "nbconvert_exporter": "python",
   "pygments_lexer": "ipython3",
   "version": "3.8.2"
  }
 },
 "nbformat": 4,
 "nbformat_minor": 4
}
